{
 "cells": [
  {
   "cell_type": "code",
   "execution_count": 4,
   "metadata": {},
   "outputs": [],
   "source": [
    "from keras.preprocessing.image import load_img\n",
    "from keras.preprocessing.image import img_to_array\n",
    "from keras.models import load_model\n"
   ]
  },
  {
   "cell_type": "code",
   "execution_count": 5,
   "metadata": {},
   "outputs": [
    {
     "name": "stdout",
     "output_type": "stream",
     "text": [
      "7\n"
     ]
    }
   ],
   "source": [
    "class make_prediction():\n",
    "\n",
    "    # load and prepare the image\n",
    "    def load_image(self,filename):\n",
    "        # load the image\n",
    "        img = load_img(filename, grayscale=True, target_size=(28, 28))\n",
    "        # convert to array\n",
    "        img = img_to_array(img)\n",
    "        # reshape into a single sample with 1 channel\n",
    "        img = img.reshape(1, 28, 28, 1)\n",
    "        # prepare pixel data\n",
    "        img = img.astype('float32')\n",
    "        img = img / 255.0\n",
    "        return img\n",
    "\n",
    "    # load an image and predict the class\n",
    "    def run_example(self):\n",
    "        # load the image\n",
    "        img = self.load_image('sample_image.png')\n",
    "        # load model\n",
    "        model = load_model('final_model.h5')\n",
    "        # predict the class\n",
    "        digit = model.predict_classes(img)\n",
    "        print(digit[0])\n",
    "\n",
    "# entry point, run the example\n",
    "x=make_prediction()\n",
    "x.run_example()"
   ]
  },
  {
   "cell_type": "code",
   "execution_count": null,
   "metadata": {},
   "outputs": [],
   "source": []
  }
 ],
 "metadata": {
  "kernelspec": {
   "display_name": "Python 3",
   "language": "python",
   "name": "python3"
  },
  "language_info": {
   "codemirror_mode": {
    "name": "ipython",
    "version": 3
   },
   "file_extension": ".py",
   "mimetype": "text/x-python",
   "name": "python",
   "nbconvert_exporter": "python",
   "pygments_lexer": "ipython3",
   "version": "3.6.10"
  }
 },
 "nbformat": 4,
 "nbformat_minor": 4
}
